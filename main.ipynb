{
 "cells": [
  {
   "cell_type": "code",
   "execution_count": 1,
   "id": "0592bad3-54cb-4d0e-bca2-8c24809fb066",
   "metadata": {},
   "outputs": [
    {
     "name": "stdout",
     "output_type": "stream",
     "text": [
      "   Unnamed: 0  Emotion                                               Text  \\\n",
      "0           0  neutral                                             Why ?    \n",
      "1           1      joy    Sage Act upgrade on my to do list for tommorow.   \n",
      "2           2  sadness  ON THE WAY TO MY HOMEGIRL BABY FUNERAL!!! MAN ...   \n",
      "3           3      joy   Such an eye ! The true hazel eye-and so brill...   \n",
      "4           4      joy  @Iluvmiasantos ugh babe.. hugggzzz for u .!  b...   \n",
      "\n",
      "                                          Clean_Text  \n",
      "0                                                  ?  \n",
      "1                    Sage Act upgrade list tommorow.  \n",
      "2  WAY HOMEGIRL BABY FUNERAL!!! MAN HATE FUNERALS...  \n",
      "3  eye ! true hazel eye-and brilliant ! Regular f...  \n",
      "4  ugh babe.. hugggzzz u .! babe naamazed nga ako...  \n",
      "Accuracy: 56.95%\n",
      "Model and vectorizer have been saved successfully.\n"
     ]
    },
    {
     "name": "stderr",
     "output_type": "stream",
     "text": [
      "C:\\Users\\90553\\AppData\\Roaming\\Python\\Python312\\site-packages\\sklearn\\linear_model\\_sag.py:349: ConvergenceWarning: The max_iter was reached which means the coef_ did not converge\n",
      "  warnings.warn(\n"
     ]
    }
   ],
   "source": [
    "import pandas as pd\n",
    "import neattext.functions as nfx\n",
    "from sklearn.feature_extraction.text import CountVectorizer\n",
    "from sklearn.model_selection import train_test_split\n",
    "from sklearn.linear_model import LogisticRegression\n",
    "from sklearn.preprocessing import StandardScaler\n",
    "import joblib\n",
    "\n",
    "# Load the dataset\n",
    "df = pd.read_csv('emotion_dataset.csv')\n",
    "\n",
    "# Cleaning text: remove user handles and stopwords\n",
    "df['Clean_Text'] = df['Text'].apply(nfx.remove_userhandles)\n",
    "df['Clean_Text'] = df['Clean_Text'].apply(nfx.remove_stopwords)\n",
    "\n",
    "# Inspect the cleaned data\n",
    "print(df.head())\n",
    "\n",
    "# Features and labels\n",
    "Xfeatures = df['Clean_Text']\n",
    "ylabels = df['Emotion']\n",
    "\n",
    "# Vectorization with max_features to limit the number of features\n",
    "vectorizer = CountVectorizer(max_features=10000)  # Limiting to 10,000 features\n",
    "Xfeatures = vectorizer.fit_transform(Xfeatures)\n",
    "\n",
    "# Save the vectorizer\n",
    "joblib.dump(vectorizer, 'vectorizer.pkl')\n",
    "\n",
    "# Train-test split\n",
    "x_train, x_test, y_train, y_test = train_test_split(Xfeatures, ylabels, test_size=0.3, random_state=42)\n",
    "\n",
    "# Scale the data\n",
    "scaler = StandardScaler(with_mean=False)  # Set with_mean=False for sparse matrix\n",
    "x_train_scaled = scaler.fit_transform(x_train)\n",
    "x_test_scaled = scaler.transform(x_test)\n",
    "\n",
    "# Initialize and train the logistic regression model\n",
    "model = LogisticRegression(max_iter=200, solver='saga')\n",
    "model.fit(x_train_scaled, y_train)\n",
    "\n",
    "# Check the accuracy\n",
    "accuracy = model.score(x_test_scaled, y_test)\n",
    "print(f'Accuracy: {accuracy * 100:.2f}%')\n",
    "\n",
    "# Save the trained model\n",
    "joblib.dump(model, 'emotion_classifier_model.pkl')\n",
    "print(\"Model and vectorizer have been saved successfully.\")\n"
   ]
  },
  {
   "cell_type": "code",
   "execution_count": null,
   "id": "6a97f6f6-88d3-489d-9161-79d46e71feb0",
   "metadata": {},
   "outputs": [],
   "source": []
  },
  {
   "cell_type": "code",
   "execution_count": null,
   "id": "a4770978-ad52-4943-99eb-7315f360d3cf",
   "metadata": {},
   "outputs": [],
   "source": []
  }
 ],
 "metadata": {
  "kernelspec": {
   "display_name": "Python 3 (ipykernel)",
   "language": "python",
   "name": "python3"
  },
  "language_info": {
   "codemirror_mode": {
    "name": "ipython",
    "version": 3
   },
   "file_extension": ".py",
   "mimetype": "text/x-python",
   "name": "python",
   "nbconvert_exporter": "python",
   "pygments_lexer": "ipython3",
   "version": "3.12.3"
  }
 },
 "nbformat": 4,
 "nbformat_minor": 5
}
